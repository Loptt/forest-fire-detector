{
  "nbformat": 4,
  "nbformat_minor": 0,
  "metadata": {
    "language_info": {
      "codemirror_mode": {
        "name": "ipython",
        "version": 3
      },
      "file_extension": ".py",
      "mimetype": "text/x-python",
      "name": "python",
      "nbconvert_exporter": "python",
      "pygments_lexer": "ipython3",
      "version": "3.6.5-final"
    },
    "orig_nbformat": 2,
    "kernelspec": {
      "name": "python365jvsc74a57bd0b7957e673c30a1701057d39bfabd7e19f67480d8e7ac4021ccd0f869bf5e60d1",
      "display_name": "Python 3.6.5 64-bit"
    },
    "metadata": {
      "interpreter": {
        "hash": "b7957e673c30a1701057d39bfabd7e19f67480d8e7ac4021ccd0f869bf5e60d1"
      }
    },
    "colab": {
      "name": "classifier_vgg19.ipynb",
      "provenance": []
    },
    "accelerator": "GPU"
  },
  "cells": [
    {
      "cell_type": "markdown",
      "metadata": {
        "id": "gzrUxeJCTweJ"
      },
      "source": [
        "# Forest Fire Detection with transfer learning using VGG19"
      ]
    },
    {
      "cell_type": "code",
      "metadata": {
        "id": "TmTg5-SXTwez"
      },
      "source": [
        "import os\n",
        "from keras.preprocessing.image import ImageDataGenerator\n",
        "from keras.callbacks import ModelCheckpoint, EarlyStopping\n",
        "from keras import optimizers\n",
        "from keras.models import load_model\n",
        "from keras.applications import VGG19\n",
        "from keras import layers\n",
        "from keras import Model\n",
        "import matplotlib.pyplot as plt\n",
        "%matplotlib inline"
      ],
      "execution_count": 1,
      "outputs": []
    },
    {
      "cell_type": "code",
      "metadata": {
        "id": "TEuZXd2hTwe1",
        "colab": {
          "base_uri": "https://localhost:8080/"
        },
        "outputId": "f3aa639c-f135-471a-94cd-a68b32ab1038"
      },
      "source": [
        "from google.colab import drive\n",
        "drive.mount('/content/gdrive')\n",
        "\n",
        "train_dir = \"/content/gdrive/My Drive/Escuela/Octavo Semestre/Fire_Original/Training\"\n",
        "test_dir = \"/content/gdrive/My Drive/Escuela/Octavo Semestre/Fire_Original/Test\"\n",
        "\n",
        "#train_dir = \"data/Training\"\n",
        "#test_dir = \"data/Test\"\n",
        "\n",
        "VGG_SIZE = 224"
      ],
      "execution_count": 2,
      "outputs": [
        {
          "output_type": "stream",
          "text": [
            "Mounted at /content/gdrive\n"
          ],
          "name": "stdout"
        }
      ]
    },
    {
      "cell_type": "code",
      "metadata": {
        "id": "oqxkzcyRTwe2"
      },
      "source": [
        "train_datagen = ImageDataGenerator(rescale=1./255,\n",
        "                                rotation_range=40,\n",
        "                                width_shift_range=0.2,\n",
        "                                height_shift_range=0.2,\n",
        "                                shear_range=0.2,\n",
        "                                zoom_range=0.2,\n",
        "                                horizontal_flip=True)\n",
        "\n",
        "test_datagen = ImageDataGenerator(rescale=1./255)"
      ],
      "execution_count": 3,
      "outputs": []
    },
    {
      "cell_type": "code",
      "metadata": {
        "id": "OKSp5DErTwe3",
        "colab": {
          "base_uri": "https://localhost:8080/"
        },
        "outputId": "37308d6f-28d9-40cd-bcee-3befc1ffa07d"
      },
      "source": [
        "train_generator = train_datagen.flow_from_directory(train_dir,\n",
        "                                                target_size=(VGG_SIZE, VGG_SIZE), \n",
        "                                                color_mode='rgb',\n",
        "                                                batch_size=20,\n",
        "                                                class_mode='binary')\n",
        "\n",
        "test_generator = test_datagen.flow_from_directory(test_dir,\n",
        "                                                target_size=(VGG_SIZE, VGG_SIZE),\n",
        "                                                color_mode='rgb',\n",
        "                                                batch_size=20,\n",
        "                                                class_mode='binary')"
      ],
      "execution_count": 4,
      "outputs": [
        {
          "output_type": "stream",
          "text": [
            "Found 14367 images belonging to 2 classes.\n",
            "Found 8646 images belonging to 2 classes.\n"
          ],
          "name": "stdout"
        }
      ]
    },
    {
      "cell_type": "code",
      "metadata": {
        "id": "CSrhwCY8Twe7"
      },
      "source": [
        "transfer_model = VGG19(include_top=True,\n",
        "                        weights=\"imagenet\",\n",
        "                        classes=1000)\n",
        "input = transfer_model.inputs"
      ],
      "execution_count": null,
      "outputs": []
    },
    {
      "cell_type": "code",
      "metadata": {
        "id": "5__xmXkBTwe7",
        "outputId": "c89206ed-b168-4586-f070-43b4ebd7716b"
      },
      "source": [
        "x = transfer_model.get_layer(\"block5_pool\").output\n",
        "x = layers.Flatten(name='flatten')(x)\n",
        "x = layers.Dense(2048, activation='relu')(x)\n",
        "x = layers.Dropout(0.15)(x)\n",
        "x = layers.Dense(1024, activation=\"relu\")(x)\n",
        "output_layer = layers.Dense(1, activation='sigmoid')(x)\n",
        "\n",
        "classifier = Model(input, output_layer)\n",
        "\n",
        "for layer in classifier.layers[:-4]:\n",
        "    layer.trainable = False\n",
        "\n",
        "classifier.summary()"
      ],
      "execution_count": null,
      "outputs": [
        {
          "output_type": "stream",
          "text": [
            "Model: \"functional_1\"\n",
            "_________________________________________________________________\n",
            "Layer (type)                 Output Shape              Param #   \n",
            "=================================================================\n",
            "input_2 (InputLayer)         [(None, 224, 224, 3)]     0         \n",
            "_________________________________________________________________\n",
            "block1_conv1 (Conv2D)        (None, 224, 224, 64)      1792      \n",
            "_________________________________________________________________\n",
            "block1_conv2 (Conv2D)        (None, 224, 224, 64)      36928     \n",
            "_________________________________________________________________\n",
            "block1_pool (MaxPooling2D)   (None, 112, 112, 64)      0         \n",
            "_________________________________________________________________\n",
            "block2_conv1 (Conv2D)        (None, 112, 112, 128)     73856     \n",
            "_________________________________________________________________\n",
            "block2_conv2 (Conv2D)        (None, 112, 112, 128)     147584    \n",
            "_________________________________________________________________\n",
            "block2_pool (MaxPooling2D)   (None, 56, 56, 128)       0         \n",
            "_________________________________________________________________\n",
            "block3_conv1 (Conv2D)        (None, 56, 56, 256)       295168    \n",
            "_________________________________________________________________\n",
            "block3_conv2 (Conv2D)        (None, 56, 56, 256)       590080    \n",
            "_________________________________________________________________\n",
            "block3_conv3 (Conv2D)        (None, 56, 56, 256)       590080    \n",
            "_________________________________________________________________\n",
            "block3_conv4 (Conv2D)        (None, 56, 56, 256)       590080    \n",
            "_________________________________________________________________\n",
            "block3_pool (MaxPooling2D)   (None, 28, 28, 256)       0         \n",
            "_________________________________________________________________\n",
            "block4_conv1 (Conv2D)        (None, 28, 28, 512)       1180160   \n",
            "_________________________________________________________________\n",
            "block4_conv2 (Conv2D)        (None, 28, 28, 512)       2359808   \n",
            "_________________________________________________________________\n",
            "block4_conv3 (Conv2D)        (None, 28, 28, 512)       2359808   \n",
            "_________________________________________________________________\n",
            "block4_conv4 (Conv2D)        (None, 28, 28, 512)       2359808   \n",
            "_________________________________________________________________\n",
            "block4_pool (MaxPooling2D)   (None, 14, 14, 512)       0         \n",
            "_________________________________________________________________\n",
            "block5_conv1 (Conv2D)        (None, 14, 14, 512)       2359808   \n",
            "_________________________________________________________________\n",
            "block5_conv2 (Conv2D)        (None, 14, 14, 512)       2359808   \n",
            "_________________________________________________________________\n",
            "block5_conv3 (Conv2D)        (None, 14, 14, 512)       2359808   \n",
            "_________________________________________________________________\n",
            "block5_conv4 (Conv2D)        (None, 14, 14, 512)       2359808   \n",
            "_________________________________________________________________\n",
            "block5_pool (MaxPooling2D)   (None, 7, 7, 512)         0         \n",
            "_________________________________________________________________\n",
            "flatten (Flatten)            (None, 25088)             0         \n",
            "_________________________________________________________________\n",
            "dense_2 (Dense)              (None, 2048)              51382272  \n",
            "_________________________________________________________________\n",
            "dropout_1 (Dropout)          (None, 2048)              0         \n",
            "_________________________________________________________________\n",
            "dense_3 (Dense)              (None, 1024)              2098176   \n",
            "_________________________________________________________________\n",
            "dense_4 (Dense)              (None, 1)                 1025      \n",
            "=================================================================\n",
            "Total params: 73,505,857\n",
            "Trainable params: 53,481,473\n",
            "Non-trainable params: 20,024,384\n",
            "_________________________________________________________________\n"
          ],
          "name": "stdout"
        }
      ]
    },
    {
      "cell_type": "code",
      "metadata": {
        "id": "BKrx8ziyTwe8"
      },
      "source": [
        "classifier.compile(loss=\"binary_crossentropy\",\n",
        "                optimizer=optimizers.Adam(lr=0.001),\n",
        "                metrics=[\"accuracy\"])"
      ],
      "execution_count": null,
      "outputs": []
    },
    {
      "cell_type": "code",
      "metadata": {
        "id": "TI68vnMQTwfD",
        "outputId": "dbfd266f-0340-4fd0-f82d-610ac0f1537c"
      },
      "source": [
        "callbacks = [\n",
        "    EarlyStopping(monitor=\"val_accuracy\", patience=3, restore_best_weights=True),\n",
        "    ModelCheckpoint(filepath='models/vgg19_model.h5', save_best_only=True, monitor='val_accuracy'),\n",
        "]\n",
        "\n",
        "history = classifier.fit(train_generator, \n",
        "                        epochs=5, \n",
        "                        batch_size=40,\n",
        "                        validation_data=test_generator,\n",
        "                        callbacks=callbacks)"
      ],
      "execution_count": null,
      "outputs": [
        {
          "output_type": "stream",
          "text": [
            "Epoch 1/5\n",
            "1478/1478 [==============================] - 5567s 4s/step - loss: 0.0492 - accuracy: 0.9835 - val_loss: 0.7559 - val_accuracy: 0.7159\n",
            "Epoch 2/5\n",
            "1478/1478 [==============================] - 5664s 4s/step - loss: 0.0476 - accuracy: 0.9833 - val_loss: 1.1254 - val_accuracy: 0.7694\n",
            "Epoch 3/5\n",
            "1478/1478 [==============================] - 5824s 4s/step - loss: 0.0463 - accuracy: 0.9843 - val_loss: 1.0169 - val_accuracy: 0.7390\n",
            "Epoch 4/5\n",
            "1478/1478 [==============================] - 5683s 4s/step - loss: 0.0390 - accuracy: 0.9866 - val_loss: 1.3191 - val_accuracy: 0.6860\n"
          ],
          "name": "stdout"
        }
      ]
    },
    {
      "cell_type": "code",
      "metadata": {
        "id": "OxbVhmq7TwfE"
      },
      "source": [
        "#classifier.save(\"models/vgg19_model.h5\")"
      ],
      "execution_count": null,
      "outputs": []
    },
    {
      "cell_type": "code",
      "metadata": {
        "id": "_cL4xw3CTwfE"
      },
      "source": [
        "acc = history.history['accuracy']\n",
        "val_acc = history.history['val_accuracy']\n",
        "loss = history.history['loss']\n",
        "val_loss = history.history['val_loss']\n",
        "\n",
        "epochs = range(1, len(acc) + 1)\n",
        "\n",
        "plt.plot(epochs, acc, 'bo', label='Training acc')\n",
        "plt.plot(epochs, val_acc, 'b', label='Validation acc')\n",
        "plt.title('Training and validation accuracy')\n",
        "plt.legend()\n",
        "\n",
        "plt.figure()\n",
        "\n",
        "plt.plot(epochs, loss, 'bo', label='Training loss')\n",
        "plt.plot(epochs, val_loss, 'b', label='Validation loss')\n",
        "plt.title('Training and validation loss')\n",
        "plt.legend()"
      ],
      "execution_count": null,
      "outputs": []
    },
    {
      "cell_type": "code",
      "metadata": {
        "id": "8M6vZKzGTwfF",
        "outputId": "334e28c8-ffc4-4b23-89a8-61fceda74e7d"
      },
      "source": [
        "result = classifier.evaluate(test_generator)\n",
        "print(f\"Test loss: {result[0]}, Test accuracy: {result[1]}\")"
      ],
      "execution_count": null,
      "outputs": [
        {
          "output_type": "stream",
          "text": [
            "431/431 [==============================] - 1247s 3s/step - loss: 1.2371 - accuracy: 0.7248\n",
            "Test loss: 1.2370550632476807, Test accuracy: 0.7248462438583374\n"
          ],
          "name": "stdout"
        }
      ]
    },
    {
      "cell_type": "code",
      "metadata": {
        "id": "XUoGweJJTwfG",
        "outputId": "d98eeadb-1848-4d68-e2b8-99dd08201321",
        "colab": {
          "base_uri": "https://localhost:8080/"
        }
      },
      "source": [
        "from keras import models\n",
        "\n",
        "model_path = \"/content/gdrive/My Drive/Escuela/Octavo Semestre/DSDM/models/vgg19_model_best.h5\"\n",
        "#model_path = 'models/vgg19_model.h5'\n",
        "\n",
        "model = models.load_model(model_path)\n",
        "result = model.evaluate(test_generator)\n",
        "print(f\"Test loss: {result[0]}, Test accuracy: {result[1]}\")"
      ],
      "execution_count": 5,
      "outputs": [
        {
          "output_type": "stream",
          "text": [
            "433/433 [==============================] - 3376s 8s/step - loss: 1.0012 - accuracy: 0.7424\n",
            "Test loss: 1.0011999607086182, Test accuracy: 0.7424242496490479\n"
          ],
          "name": "stdout"
        }
      ]
    },
    {
      "cell_type": "code",
      "metadata": {
        "id": "1Ru1dLLXTwfG"
      },
      "source": [
        ""
      ],
      "execution_count": null,
      "outputs": []
    }
  ]
}
