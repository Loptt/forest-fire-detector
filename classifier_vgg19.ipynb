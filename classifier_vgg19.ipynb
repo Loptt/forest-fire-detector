{
 "metadata": {
  "language_info": {
   "codemirror_mode": {
    "name": "ipython",
    "version": 3
   },
   "file_extension": ".py",
   "mimetype": "text/x-python",
   "name": "python",
   "nbconvert_exporter": "python",
   "pygments_lexer": "ipython3",
   "version": "3.6.5-final"
  },
  "orig_nbformat": 2,
  "kernelspec": {
   "name": "python365jvsc74a57bd0b7957e673c30a1701057d39bfabd7e19f67480d8e7ac4021ccd0f869bf5e60d1",
   "display_name": "Python 3.6.5 64-bit"
  },
  "metadata": {
   "interpreter": {
    "hash": "b7957e673c30a1701057d39bfabd7e19f67480d8e7ac4021ccd0f869bf5e60d1"
   }
  }
 },
 "nbformat": 4,
 "nbformat_minor": 2,
 "cells": [
  {
   "source": [
    "# Forest Fire Detection with transfer learning using VGG19"
   ],
   "cell_type": "markdown",
   "metadata": {}
  },
  {
   "cell_type": "code",
   "execution_count": 14,
   "metadata": {},
   "outputs": [],
   "source": [
    "import os\n",
    "from keras.preprocessing.image import ImageDataGenerator\n",
    "from keras.callbacks import ModelCheckpoint, EarlyStopping\n",
    "from keras import optimizers\n",
    "from keras.models import load_model\n",
    "from keras.applications import VGG19\n",
    "from keras import layers\n",
    "from keras import Model\n",
    "import matplotlib.pyplot as plt\n",
    "%matplotlib inline"
   ]
  },
  {
   "cell_type": "code",
   "execution_count": 15,
   "metadata": {},
   "outputs": [],
   "source": [
    "train_dir = \"data/Training\"\n",
    "test_dir = \"data/Test\"\n",
    "\n",
    "VGG_SIZE = 224"
   ]
  },
  {
   "cell_type": "code",
   "execution_count": 16,
   "metadata": {},
   "outputs": [],
   "source": [
    "train_datagen = ImageDataGenerator(rescale=1./255,\n",
    "                                rotation_range=40,\n",
    "                                width_shift_range=0.2,\n",
    "                                height_shift_range=0.2,\n",
    "                                shear_range=0.2,\n",
    "                                zoom_range=0.2,\n",
    "                                horizontal_flip=True,\n",
    "                                validation_split=0.25)\n",
    "\n",
    "test_datagen = ImageDataGenerator(rescale=1./255)"
   ]
  },
  {
   "cell_type": "code",
   "execution_count": 17,
   "metadata": {},
   "outputs": [
    {
     "output_type": "stream",
     "name": "stdout",
     "text": [
      "Found 29547 images belonging to 2 classes.\n",
      "Found 9848 images belonging to 2 classes.\n",
      "Found 8617 images belonging to 2 classes.\n"
     ]
    }
   ],
   "source": [
    "train_generator = train_datagen.flow_from_directory(train_dir,\n",
    "                                                target_size=(VGG_SIZE, VGG_SIZE), \n",
    "                                                color_mode='rgb',\n",
    "                                                batch_size=20,\n",
    "                                                subset='training',\n",
    "                                                class_mode='binary')\n",
    "\n",
    "val_generator = train_datagen.flow_from_directory(train_dir,\n",
    "                                                target_size=(VGG_SIZE, VGG_SIZE), \n",
    "                                                color_mode='rgb',\n",
    "                                                batch_size=20,\n",
    "                                                subset='validation',\n",
    "                                                class_mode='binary')\n",
    "\n",
    "test_generator = test_datagen.flow_from_directory(test_dir,\n",
    "                                                target_size=(VGG_SIZE, VGG_SIZE),\n",
    "                                                color_mode='rgb',\n",
    "                                                batch_size=20,\n",
    "                                                class_mode='binary')"
   ]
  },
  {
   "cell_type": "code",
   "execution_count": 18,
   "metadata": {},
   "outputs": [],
   "source": [
    "transfer_model = VGG19(include_top=True,\n",
    "                        weights=\"imagenet\",\n",
    "                        classes=1000)\n",
    "input = transfer_model.inputs"
   ]
  },
  {
   "cell_type": "code",
   "execution_count": 19,
   "metadata": {},
   "outputs": [
    {
     "output_type": "stream",
     "name": "stdout",
     "text": [
      "Model: \"functional_1\"\n_________________________________________________________________\nLayer (type)                 Output Shape              Param #   \n=================================================================\ninput_2 (InputLayer)         [(None, 224, 224, 3)]     0         \n_________________________________________________________________\nblock1_conv1 (Conv2D)        (None, 224, 224, 64)      1792      \n_________________________________________________________________\nblock1_conv2 (Conv2D)        (None, 224, 224, 64)      36928     \n_________________________________________________________________\nblock1_pool (MaxPooling2D)   (None, 112, 112, 64)      0         \n_________________________________________________________________\nblock2_conv1 (Conv2D)        (None, 112, 112, 128)     73856     \n_________________________________________________________________\nblock2_conv2 (Conv2D)        (None, 112, 112, 128)     147584    \n_________________________________________________________________\nblock2_pool (MaxPooling2D)   (None, 56, 56, 128)       0         \n_________________________________________________________________\nblock3_conv1 (Conv2D)        (None, 56, 56, 256)       295168    \n_________________________________________________________________\nblock3_conv2 (Conv2D)        (None, 56, 56, 256)       590080    \n_________________________________________________________________\nblock3_conv3 (Conv2D)        (None, 56, 56, 256)       590080    \n_________________________________________________________________\nblock3_conv4 (Conv2D)        (None, 56, 56, 256)       590080    \n_________________________________________________________________\nblock3_pool (MaxPooling2D)   (None, 28, 28, 256)       0         \n_________________________________________________________________\nblock4_conv1 (Conv2D)        (None, 28, 28, 512)       1180160   \n_________________________________________________________________\nblock4_conv2 (Conv2D)        (None, 28, 28, 512)       2359808   \n_________________________________________________________________\nblock4_conv3 (Conv2D)        (None, 28, 28, 512)       2359808   \n_________________________________________________________________\nblock4_conv4 (Conv2D)        (None, 28, 28, 512)       2359808   \n_________________________________________________________________\nblock4_pool (MaxPooling2D)   (None, 14, 14, 512)       0         \n_________________________________________________________________\nblock5_conv1 (Conv2D)        (None, 14, 14, 512)       2359808   \n_________________________________________________________________\nblock5_conv2 (Conv2D)        (None, 14, 14, 512)       2359808   \n_________________________________________________________________\nblock5_conv3 (Conv2D)        (None, 14, 14, 512)       2359808   \n_________________________________________________________________\nblock5_conv4 (Conv2D)        (None, 14, 14, 512)       2359808   \n_________________________________________________________________\nblock5_pool (MaxPooling2D)   (None, 7, 7, 512)         0         \n_________________________________________________________________\nflatten (Flatten)            (None, 25088)             0         \n_________________________________________________________________\ndense_2 (Dense)              (None, 2048)              51382272  \n_________________________________________________________________\ndropout_1 (Dropout)          (None, 2048)              0         \n_________________________________________________________________\ndense_3 (Dense)              (None, 1024)              2098176   \n_________________________________________________________________\ndense_4 (Dense)              (None, 1)                 1025      \n=================================================================\nTotal params: 73,505,857\nTrainable params: 53,481,473\nNon-trainable params: 20,024,384\n_________________________________________________________________\n"
     ]
    }
   ],
   "source": [
    "x = transfer_model.get_layer(\"block5_pool\").output\n",
    "x = layers.Flatten(name='flatten')(x)\n",
    "x = layers.Dense(2048, activation='relu')(x)\n",
    "x = layers.Dropout(0.15)(x)\n",
    "x = layers.Dense(1024, activation=\"relu\")(x)\n",
    "output_layer = layers.Dense(1, activation='sigmoid')(x)\n",
    "\n",
    "classifier = Model(input, output_layer)\n",
    "\n",
    "for layer in classifier.layers[:-4]:\n",
    "    layer.trainable = False\n",
    "\n",
    "classifier.summary()"
   ]
  },
  {
   "cell_type": "code",
   "execution_count": 20,
   "metadata": {},
   "outputs": [],
   "source": [
    "classifier.compile(loss=\"binary_crossentropy\",\n",
    "                optimizer=optimizers.Adam(lr=0.001),\n",
    "                metrics=[\"accuracy\"])"
   ]
  },
  {
   "cell_type": "code",
   "execution_count": 21,
   "metadata": {},
   "outputs": [
    {
     "output_type": "stream",
     "name": "stdout",
     "text": [
      "Epoch 1/5\n",
      "1478/1478 [==============================] - 6210s 4s/step - loss: 0.1539 - accuracy: 0.9566 - val_loss: 0.0989 - val_accuracy: 0.9563\n",
      "Epoch 2/5\n",
      "1478/1478 [==============================] - 5892s 4s/step - loss: 0.0768 - accuracy: 0.9712 - val_loss: 0.0596 - val_accuracy: 0.9734\n",
      "Epoch 3/5\n",
      "1478/1478 [==============================] - 6097s 4s/step - loss: 0.0615 - accuracy: 0.9772 - val_loss: 0.1069 - val_accuracy: 0.9566\n",
      "Epoch 4/5\n",
      "1478/1478 [==============================] - 6114s 4s/step - loss: 0.0589 - accuracy: 0.9786 - val_loss: 0.1684 - val_accuracy: 0.9418\n",
      "Epoch 5/5\n",
      "1478/1478 [==============================] - 6031s 4s/step - loss: 0.0510 - accuracy: 0.9807 - val_loss: 0.1488 - val_accuracy: 0.9409\n"
     ]
    }
   ],
   "source": [
    "callbacks = [\n",
    "    EarlyStopping(monitor=\"val_loss\", patience=3, restore_best_weights=True),\n",
    "    ModelCheckpoint(filepath='models/vgg19_model.h5', save_best_only=True),\n",
    "]\n",
    "\n",
    "history = classifier.fit(train_generator, \n",
    "                        epochs=5, \n",
    "                        batch_size=40,\n",
    "                        validation_data=test_generator,\n",
    "                        callbacks=callbacks)"
   ]
  },
  {
   "cell_type": "code",
   "execution_count": 22,
   "metadata": {},
   "outputs": [],
   "source": [
    "#classifier.save(\"models/vgg19_model.h5\")"
   ]
  },
  {
   "cell_type": "code",
   "execution_count": 23,
   "metadata": {},
   "outputs": [
    {
     "output_type": "stream",
     "name": "stdout",
     "text": [
      "431/431 [==============================] - 1247s 3s/step - loss: 1.2371 - accuracy: 0.7248\n",
      "Test loss: 1.2370550632476807, Test accuracy: 0.7248462438583374\n"
     ]
    }
   ],
   "source": [
    "result = classifier.evaluate(test_generator)\n",
    "print(f\"Test loss: {result[0]}, Test accuracy: {result[1]}\")"
   ]
  },
  {
   "cell_type": "code",
   "execution_count": 24,
   "metadata": {},
   "outputs": [
    {
     "output_type": "stream",
     "name": "stdout",
     "text": [
      "431/431 [==============================] - 1239s 3s/step - loss: 3.2376 - accuracy: 0.6402\n",
      "Test loss: 3.2375502586364746, Test accuracy: 0.6402460336685181\n"
     ]
    }
   ],
   "source": [
    "from keras import models\n",
    "\n",
    "model = models.load_model(\"models/vgg19_model_or.h5\")\n",
    "result = model.evaluate(test_generator)\n",
    "print(f\"Test loss: {result[0]}, Test accuracy: {result[1]}\")"
   ]
  },
  {
   "cell_type": "code",
   "execution_count": null,
   "metadata": {},
   "outputs": [],
   "source": []
  }
 ]
}