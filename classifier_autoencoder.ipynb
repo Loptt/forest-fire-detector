{
  "nbformat": 4,
  "nbformat_minor": 0,
  "metadata": {
    "orig_nbformat": 2,
    "colab": {
      "name": "classifier_autoencoder.ipynb",
      "provenance": [],
      "include_colab_link": true
    },
    "accelerator": "GPU",
    "language_info": {
      "name": "python"
    },
    "kernelspec": {
      "name": "python3",
      "display_name": "Python 3"
    }
  },
  "cells": [
    {
      "cell_type": "markdown",
      "metadata": {
        "id": "view-in-github",
        "colab_type": "text"
      },
      "source": [
        "<a href=\"https://colab.research.google.com/github/Loptt/forest-fire-detector/blob/main/classifier_autoencoder.ipynb\" target=\"_parent\"><img src=\"https://colab.research.google.com/assets/colab-badge.svg\" alt=\"Open In Colab\"/></a>"
      ]
    },
    {
      "cell_type": "markdown",
      "metadata": {
        "id": "EGpt17wrTd0x"
      },
      "source": [
        "# Fire Classifier with autoencoders"
      ]
    },
    {
      "cell_type": "markdown",
      "metadata": {
        "id": "wvgbWNsyZOaD"
      },
      "source": [
        "## Data Loading"
      ]
    },
    {
      "cell_type": "code",
      "metadata": {
        "id": "mhp7e_hATeZS"
      },
      "source": [
        "from keras.preprocessing.image import ImageDataGenerator\n",
        "from keras import layers\n",
        "from keras import Model\n",
        "from keras import Input\n",
        "from keras.utils.vis_utils import plot_model\n",
        "from keras.callbacks import ModelCheckpoint\n"
      ],
      "execution_count": 66,
      "outputs": []
    },
    {
      "cell_type": "code",
      "metadata": {
        "id": "h8Sts35zYhme",
        "colab": {
          "base_uri": "https://localhost:8080/"
        },
        "outputId": "3ea27913-083b-4811-82d2-61348fa5d5a0"
      },
      "source": [
        "from google.colab import drive\n",
        "drive.mount('/content/gdrive')\n",
        "\n",
        "train_dir = \"/content/gdrive/My Drive/Escuela/Octavo Semestre/Fire_Original/Training\"\n",
        "test_dir = \"/content/gdrive/My Drive/Escuela/Octavo Semestre/Fire_Original/Test\""
      ],
      "execution_count": 63,
      "outputs": [
        {
          "output_type": "stream",
          "text": [
            "Drive already mounted at /content/gdrive; to attempt to forcibly remount, call drive.mount(\"/content/gdrive\", force_remount=True).\n"
          ],
          "name": "stdout"
        }
      ]
    },
    {
      "cell_type": "code",
      "metadata": {
        "id": "zlRozA2bToKj"
      },
      "source": [
        "datagen = ImageDataGenerator(rescale=1./255,\n",
        "                              rotation_range=40,\n",
        "                              width_shift_range=0.2,\n",
        "                              height_shift_range=0.2,\n",
        "                              shear_range=0.2,\n",
        "                              zoom_range=0.2,\n",
        "                              horizontal_flip=True)"
      ],
      "execution_count": null,
      "outputs": []
    },
    {
      "cell_type": "markdown",
      "metadata": {
        "id": "42vkWRCdZRmJ"
      },
      "source": [
        "## Autoencoder creation"
      ]
    },
    {
      "cell_type": "code",
      "metadata": {
        "id": "ui41Cq4gnUIf",
        "colab": {
          "base_uri": "https://localhost:8080/"
        },
        "outputId": "40c31658-bad2-4aba-b2ba-12d3507b716d"
      },
      "source": [
        "train_generator_autoencoder = datagen.flow_from_directory(train_dir,\n",
        "                                                target_size=(254, 254), \n",
        "                                                color_mode='rgb',\n",
        "                                                batch_size=20,\n",
        "                                                class_mode='input')\n",
        "\n",
        "test_generator_autoencoder = datagen.flow_from_directory(test_dir,\n",
        "                                                target_size=(254, 254),\n",
        "                                                color_mode='rgb',\n",
        "                                                batch_size=20,\n",
        "                                                class_mode='input')"
      ],
      "execution_count": null,
      "outputs": [
        {
          "output_type": "stream",
          "text": [
            "Found 39401 images belonging to 2 classes.\n",
            "Found 8646 images belonging to 2 classes.\n"
          ],
          "name": "stdout"
        }
      ]
    },
    {
      "cell_type": "markdown",
      "metadata": {
        "id": "Fb_ZjzxscjO6"
      },
      "source": [
        "Encoder"
      ]
    },
    {
      "cell_type": "code",
      "metadata": {
        "id": "h72aRVSBZQ5q"
      },
      "source": [
        "input_img = Input(shape=(254, 254, 3))\n",
        "\n",
        "x = layers.Conv2D(32, (3, 3), activation='relu', padding='same')(input_img)\n",
        "x = layers.MaxPooling2D((2, 2), padding='same')(x)\n",
        "x = layers.Conv2D(16, (3, 3), activation='relu', padding='same')(x)\n",
        "x = layers.MaxPooling2D((2, 2), padding='same')(x)\n",
        "x = layers.Conv2D(16, (3, 3), activation='relu', padding='same')(x)\n",
        "encoded = layers.MaxPooling2D((2, 2), padding='same')(x)"
      ],
      "execution_count": null,
      "outputs": []
    },
    {
      "cell_type": "markdown",
      "metadata": {
        "id": "b_JzY_OyckXA"
      },
      "source": [
        "Decoder"
      ]
    },
    {
      "cell_type": "code",
      "metadata": {
        "id": "FNRXUVETcZ0D"
      },
      "source": [
        "x = layers.Conv2D(16, (3, 3), activation='relu', padding='same')(encoded)\n",
        "x = layers.UpSampling2D((2, 2))(x)\n",
        "x = layers.Conv2D(16, (3, 3), activation='relu', padding='same')(x)\n",
        "x = layers.UpSampling2D((2, 2))(x)\n",
        "x = layers.Conv2D(32, (2, 2), activation='relu', padding='valid')(x)\n",
        "x = layers.UpSampling2D((2, 2))(x)\n",
        "decoded = layers.Conv2D(3, (3, 3), activation='sigmoid', padding='same')(x)"
      ],
      "execution_count": null,
      "outputs": []
    },
    {
      "cell_type": "markdown",
      "metadata": {
        "id": "x07jsLOkclLF"
      },
      "source": [
        "Compile Model"
      ]
    },
    {
      "cell_type": "code",
      "metadata": {
        "id": "4c4QkyD3a2Uy",
        "colab": {
          "base_uri": "https://localhost:8080/"
        },
        "outputId": "d50eafe8-57e6-42e7-aef5-9eba71d85ae8"
      },
      "source": [
        "autoencoder = Model(input_img, decoded)\n",
        "autoencoder.compile(optimizer='adam', loss='binary_crossentropy')\n",
        "\n",
        "plot_model(autoencoder, show_shapes=True, show_layer_names=True)\n",
        "autoencoder.summary()"
      ],
      "execution_count": null,
      "outputs": [
        {
          "output_type": "stream",
          "text": [
            "Model: \"model_14\"\n",
            "_________________________________________________________________\n",
            "Layer (type)                 Output Shape              Param #   \n",
            "=================================================================\n",
            "input_9 (InputLayer)         [(None, 254, 254, 3)]     0         \n",
            "_________________________________________________________________\n",
            "conv2d_91 (Conv2D)           (None, 254, 254, 32)      896       \n",
            "_________________________________________________________________\n",
            "max_pooling2d_26 (MaxPooling (None, 127, 127, 32)      0         \n",
            "_________________________________________________________________\n",
            "conv2d_92 (Conv2D)           (None, 127, 127, 16)      4624      \n",
            "_________________________________________________________________\n",
            "max_pooling2d_27 (MaxPooling (None, 64, 64, 16)        0         \n",
            "_________________________________________________________________\n",
            "conv2d_93 (Conv2D)           (None, 64, 64, 16)        2320      \n",
            "_________________________________________________________________\n",
            "max_pooling2d_28 (MaxPooling (None, 32, 32, 16)        0         \n",
            "_________________________________________________________________\n",
            "conv2d_94 (Conv2D)           (None, 32, 32, 16)        2320      \n",
            "_________________________________________________________________\n",
            "up_sampling2d_49 (UpSampling (None, 64, 64, 16)        0         \n",
            "_________________________________________________________________\n",
            "conv2d_95 (Conv2D)           (None, 64, 64, 16)        2320      \n",
            "_________________________________________________________________\n",
            "up_sampling2d_50 (UpSampling (None, 128, 128, 16)      0         \n",
            "_________________________________________________________________\n",
            "conv2d_96 (Conv2D)           (None, 127, 127, 32)      2080      \n",
            "_________________________________________________________________\n",
            "up_sampling2d_51 (UpSampling (None, 254, 254, 32)      0         \n",
            "_________________________________________________________________\n",
            "conv2d_97 (Conv2D)           (None, 254, 254, 3)       867       \n",
            "=================================================================\n",
            "Total params: 15,427\n",
            "Trainable params: 15,427\n",
            "Non-trainable params: 0\n",
            "_________________________________________________________________\n"
          ],
          "name": "stdout"
        }
      ]
    },
    {
      "cell_type": "code",
      "metadata": {
        "id": "izg_vPJowio5"
      },
      "source": [
        "checkpoint_filepath = \"/content/gdrive/My Drive/Escuela/Octavo Semestre/DSDM/autoencoder\"\n",
        "model_checkpoint_callback = ModelCheckpoint(\n",
        "    filepath=checkpoint_filepath,\n",
        "    save_weights_only=True,\n",
        "    monitor='val_loss',\n",
        "    mode='max',\n",
        "    save_best_only=True)"
      ],
      "execution_count": 68,
      "outputs": []
    },
    {
      "cell_type": "code",
      "metadata": {
        "id": "_TIXua1CifeZ",
        "colab": {
          "base_uri": "https://localhost:8080/"
        },
        "outputId": "0ffd01c6-c464-4dd7-c84b-432e800db42e"
      },
      "source": [
        "autoencoder.fit(train_generator_autoencoder,\n",
        "                epochs=50,\n",
        "                batch_size=100,\n",
        "                shuffle=True,\n",
        "                validation_data=test_generator_autoencoder,\n",
        "                callbacks=[model_checkpoint_callback])"
      ],
      "execution_count": null,
      "outputs": [
        {
          "output_type": "stream",
          "text": [
            "Epoch 1/50\n",
            " 906/1971 [============>.................] - ETA: 2:20:34 - loss: 0.5501"
          ],
          "name": "stdout"
        }
      ]
    }
  ]
}